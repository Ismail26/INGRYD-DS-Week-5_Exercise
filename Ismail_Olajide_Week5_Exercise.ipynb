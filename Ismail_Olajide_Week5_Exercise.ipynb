{
 "cells": [
  {
   "cell_type": "code",
   "execution_count": null,
   "id": "9eaa2f9e",
   "metadata": {},
   "outputs": [],
   "source": [
    "'''\n",
    "1. Using the zip() function, merge two lists into a list of tuples\n",
    "2. Write a program to iterate two lists simultaneously. Hint: Your lists should be string and integer. Using map() function\n",
    "3. Write a program that uses filter to find all prime numbers in range of numbers\n",
    "4. Use a loop and any HoF to print every second elements of an iterator with its index\n",
    "'''"
   ]
  },
  {
   "cell_type": "code",
   "execution_count": 6,
   "id": "e25ddbd2",
   "metadata": {},
   "outputs": [
    {
     "name": "stdout",
     "output_type": "stream",
     "text": [
      "[('Banana', 'Green'), ('Orange', 'Yellow'), ('Apple', 'Red')]\n"
     ]
    }
   ],
   "source": [
    "# 1. Using the zip() function, merge two lists into a list of tuples\n",
    "\n",
    "fruit = ['Banana','Orange','Apple']\n",
    "color = ['Green','Yellow','Red']\n",
    "\n",
    "zipped = zip(fruit,color)\n",
    "\n",
    "print(list(tuple(zipped)))"
   ]
  },
  {
   "cell_type": "code",
   "execution_count": 1,
   "id": "382b256c",
   "metadata": {},
   "outputs": [
    {
     "name": "stdout",
     "output_type": "stream",
     "text": [
      "Effiong 25\n",
      "Usman 32\n",
      "Ade 19\n",
      "Eze 47\n"
     ]
    }
   ],
   "source": [
    "# 2. Write a program to iterate two lists simultaneously. Hint: Your lists should be string and integer. Using map() function\n",
    "\n",
    "# create a function to concatenate the two different list\n",
    "def my_function(name, age):\n",
    "    return name + \" \" + str(age)\n",
    "\n",
    "# create lists\n",
    "name = [\"Effiong\", \"Usman\",\"Ade\",\"Eze\"]\n",
    "age = [25, 32, 19, 47]\n",
    "\n",
    "# Using map() to iterate over the two lists simultaneously\n",
    "iterate_list = map(my_function, name, age)\n",
    "\n",
    "# Printing the combined list\n",
    "for i in iterate_list:\n",
    "  print(i)\n"
   ]
  },
  {
   "cell_type": "code",
   "execution_count": 25,
   "id": "e35fc380",
   "metadata": {},
   "outputs": [
    {
     "name": "stdout",
     "output_type": "stream",
     "text": [
      "Prime numbers in the range of specified number(s) are:  [2, 3, 5, 7, 11, 13, 17, 19]\n"
     ]
    }
   ],
   "source": [
    "# 3. Write a program that uses filter to find all prime numbers in range of number\n",
    "\n",
    "\n",
    "# num = range(2, 20)\n",
    "\n",
    "# def prime(p):\n",
    "#     if p % 2 == 1 and p % 3 != 0:\n",
    "#         return True\n",
    "#     else:\n",
    "#         return False\n",
    "    \n",
    "# filterNum = sorted(filter(prime, num))\n",
    "\n",
    "# for i in filterNum:\n",
    "#     print(i)\n",
    "    \n",
    "def is_prime(num):\n",
    "    if num <= 1:\n",
    "        return False\n",
    "    for i in range(2, int(num**0.5) +1):\n",
    "        if num %i == 0:\n",
    "            return False\n",
    "    return True\n",
    "\n",
    "primeNumbers = filter(is_prime, range(20))\n",
    "print(\"Prime numbers in the range of specified number(s) are: \", list(primeNumbers))\n"
   ]
  },
  {
   "cell_type": "code",
   "execution_count": 6,
   "id": "18bc39fc",
   "metadata": {},
   "outputs": [
    {
     "name": "stdout",
     "output_type": "stream",
     "text": [
      "Index: 1  =  Element:  150\n",
      "Index: 3  =  Element:  250\n",
      "Index: 5  =  Element:  350\n",
      "Index: 7  =  Element:  450\n"
     ]
    }
   ],
   "source": [
    "# 4. Use a loop and any HoF to print every second elements of an iterator with its index\n",
    "\n",
    "def second_elements(iterator):\n",
    "    for i, element in enumerate(iterator):      # enumerate() gets element's index and we loop through both the generated index and the elements \n",
    "        if i % 2 == 1:    # Check if the index is an odd number - this translate to every second index - 0, 1*, 2, 3*, 4, 5*,6....\n",
    "            print(\"Index:\", i,\" = \",\"Element: \", element)\n",
    "\n",
    "# create iterator\n",
    "iterator = [100, 150, 200, 250, 300, 350, 400, 450, 500]\n",
    "\n",
    "# Call function to print every second elements of created iterator with its index\n",
    "second_elements(iterator)"
   ]
  }
 ],
 "metadata": {
  "kernelspec": {
   "display_name": "Python 3 (ipykernel)",
   "language": "python",
   "name": "python3"
  },
  "language_info": {
   "codemirror_mode": {
    "name": "ipython",
    "version": 3
   },
   "file_extension": ".py",
   "mimetype": "text/x-python",
   "name": "python",
   "nbconvert_exporter": "python",
   "pygments_lexer": "ipython3",
   "version": "3.10.9"
  }
 },
 "nbformat": 4,
 "nbformat_minor": 5
}
